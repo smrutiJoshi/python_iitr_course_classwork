{
 "cells": [
  {
   "cell_type": "code",
   "execution_count": 1,
   "metadata": {},
   "outputs": [],
   "source": [
    "class TwoPointLine:\n",
    "    '''This is the Two Point Class by SG'''\n",
    "    def __init__(self, name=\"SG\"):\n",
    "        self.name = name\n",
    "        print(f\"The class has been constructed {name}\")\n",
    "    def classMethod(x):\n",
    "        print(f\"This is a class method: {x}\")\n",
    "        \n",
    "    def fit(self, x, y):\n",
    "        if len(x) != 2 or len(y) != 2:\n",
    "            print(\"Error! Invalid Data\")\n",
    "            return\n",
    "        x1, x2 = x\n",
    "        y1, y2 = y\n",
    "        m = (y2 - y1) / (x2 - x1)\n",
    "        c = y2 - m*x2\n",
    "        self.params = (m, c)\n",
    "    def predict(self, x):\n",
    "        m, c = self.params\n",
    "        result = []\n",
    "        for xx in x:\n",
    "            yy = m * xx + c\n",
    "            result.append(yy)\n",
    "        return result"
   ]
  },
  {
   "cell_type": "code",
   "execution_count": null,
   "metadata": {},
   "outputs": [],
   "source": []
  }
 ],
 "metadata": {
  "kernelspec": {
   "display_name": "Python 3",
   "language": "python",
   "name": "python3"
  },
  "language_info": {
   "codemirror_mode": {
    "name": "ipython",
    "version": 3
   },
   "file_extension": ".py",
   "mimetype": "text/x-python",
   "name": "python",
   "nbconvert_exporter": "python",
   "pygments_lexer": "ipython3",
   "version": "3.6.8"
  },
  "toc": {
   "base_numbering": 1,
   "nav_menu": {},
   "number_sections": true,
   "sideBar": true,
   "skip_h1_title": false,
   "title_cell": "Table of Contents",
   "title_sidebar": "Contents",
   "toc_cell": false,
   "toc_position": {},
   "toc_section_display": true,
   "toc_window_display": false
  }
 },
 "nbformat": 4,
 "nbformat_minor": 2
}
