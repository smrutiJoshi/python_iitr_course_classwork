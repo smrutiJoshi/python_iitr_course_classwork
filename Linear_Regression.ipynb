{
 "cells": [
  {
   "cell_type": "code",
   "execution_count": 8,
   "metadata": {},
   "outputs": [
    {
     "ename": "IndentationError",
     "evalue": "unexpected indent (<ipython-input-8-8e3dfe6a3103>, line 16)",
     "output_type": "error",
     "traceback": [
      "\u001b[0;36m  File \u001b[0;32m\"<ipython-input-8-8e3dfe6a3103>\"\u001b[0;36m, line \u001b[0;32m16\u001b[0m\n\u001b[0;31m    return print(f\"{'x':>5} {'y (actual)':>12} {'m (slope)':>12} {'c (intercept)':>15} {'y (predicted)':>15} {'Error':>10}\")\u001b[0m\n\u001b[0m    ^\u001b[0m\n\u001b[0;31mIndentationError\u001b[0m\u001b[0;31m:\u001b[0m unexpected indent\n"
     ]
    }
   ],
   "source": []
  },
  {
   "cell_type": "code",
   "execution_count": 2,
   "metadata": {},
   "outputs": [
    {
     "name": "stdout",
     "output_type": "stream",
     "text": [
      "x: 6\n",
      "m (slope): 40\n",
      "c (intercept): 1\n",
      "Original y: 12\n",
      "predicted y: 241\n",
      "Error: 229\n"
     ]
    },
    {
     "data": {
      "text/plain": [
       "229"
      ]
     },
     "execution_count": 2,
     "metadata": {},
     "output_type": "execute_result"
    }
   ],
   "source": [
    "check_error(12,40,6,1)"
   ]
  },
  {
   "cell_type": "code",
   "execution_count": 6,
   "metadata": {},
   "outputs": [
    {
     "name": "stdout",
     "output_type": "stream",
     "text": [
      "[(10, 8), (40, 12), (80, 18)]\n",
      "x: 10, y: 8\n",
      "x: 40, y: 12\n",
      "x: 80, y: 18\n"
     ]
    }
   ],
   "source": [
    "arr = [(10,8),(40,12),(80,18)]\n",
    "print(arr)\n",
    "for x, y in arr:\n",
    "    print(f\"x: {x}, y: {y}\")"
   ]
  },
  {
   "cell_type": "code",
   "execution_count": 16,
   "metadata": {},
   "outputs": [],
   "source": [
    "def slope(m, x, c):\n",
    "    return m * x + c\n",
    "\n",
    "def check_error(y, m, x, c):\n",
    "    original_y = y\n",
    "    new_y = slope(m, x, c)\n",
    "    error = abs(new_y - original_y)\n",
    "    \n",
    "#     print(f\"x: {x}\")\n",
    "#     print(f\"m (slope): {m}\")\n",
    "#     print(f\"c (intercept): {c}\")\n",
    "#     print(f\"Original y: {original_y}\")\n",
    "#     print(f\"predicted y: {new_y}\")\n",
    "#     print(f\"Error: {error}\")\n",
    "    \n",
    "    return (x, original_y, m, c, new_y, error)\n",
    "\n",
    "def linear_regression(arr,m,c):\n",
    "    print(f\"{'x':>5} {'y (actual)':>12} {'m (slope)':>12} {'c (intercept)':>15} {'y (predicted)':>15} {'Error':>10}\")\n",
    "    for x, y in arr:\n",
    "        x_val, y_actual, m_val, c_val, y_pred, err = check_error(y, m, x, c)\n",
    "        print(f\"{x_val:>5} {y_actual:>12} {m_val:>12} {c_val:>15} {y_pred:>15.2f} {err:>10.2f}\")"
   ]
  },
  {
   "cell_type": "code",
   "execution_count": 17,
   "metadata": {},
   "outputs": [
    {
     "name": "stdout",
     "output_type": "stream",
     "text": [
      "    x   y (actual)    m (slope)   c (intercept)   y (predicted)      Error\n",
      "   10            8            6               1           61.00      53.00\n",
      "   40           12            6               1          241.00     229.00\n",
      "   80           18            6               1          481.00     463.00\n"
     ]
    }
   ],
   "source": [
    "arr = [(10,8),(40,12),(80,18)]\n",
    "m = 6\n",
    "c = 1\n",
    "linear_regression(arr,m,c)"
   ]
  },
  {
   "cell_type": "code",
   "execution_count": null,
   "metadata": {},
   "outputs": [],
   "source": []
  }
 ],
 "metadata": {
  "kernelspec": {
   "display_name": "Python 3",
   "language": "python",
   "name": "python3"
  },
  "language_info": {
   "codemirror_mode": {
    "name": "ipython",
    "version": 3
   },
   "file_extension": ".py",
   "mimetype": "text/x-python",
   "name": "python",
   "nbconvert_exporter": "python",
   "pygments_lexer": "ipython3",
   "version": "3.6.8"
  },
  "toc": {
   "base_numbering": 1,
   "nav_menu": {},
   "number_sections": true,
   "sideBar": true,
   "skip_h1_title": false,
   "title_cell": "Table of Contents",
   "title_sidebar": "Contents",
   "toc_cell": false,
   "toc_position": {},
   "toc_section_display": true,
   "toc_window_display": false
  }
 },
 "nbformat": 4,
 "nbformat_minor": 2
}
