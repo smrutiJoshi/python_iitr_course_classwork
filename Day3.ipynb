{
 "cells": [
  {
   "cell_type": "code",
   "execution_count": 1,
   "metadata": {},
   "outputs": [],
   "source": [
    "#Q:\n",
    "# # Designing thermometer\n",
    "# when current 1, the teperature was 30\n",
    "# when currrent 2, the temperature was 35\n",
    "# when current will be 3, what would be the temperature 40\n",
    "# current = 4, temp = 45\n",
    "# current 2.1, temp = 35.5"
   ]
  },
  {
   "cell_type": "code",
   "execution_count": 2,
   "metadata": {},
   "outputs": [
    {
     "data": {
      "text/plain": [
       "1"
      ]
     },
     "execution_count": 2,
     "metadata": {},
     "output_type": "execute_result"
    }
   ],
   "source": [
    "calibration_data = [[1,30], [2,35], [3,40]]\n"
   ]
  },
  {
   "cell_type": "code",
   "execution_count": 38,
   "metadata": {},
   "outputs": [
    {
     "name": "stdout",
     "output_type": "stream",
     "text": [
      "x1,y1: (1, 34.5)\n",
      "x2,y2: (2, 35.1)\n",
      "m:0.6000000000000014\n",
      "y:34.5\n",
      "x:1\n",
      "c:33.9\n"
     ]
    },
    {
     "data": {
      "text/plain": [
       "35.04"
      ]
     },
     "execution_count": 38,
     "metadata": {},
     "output_type": "execute_result"
    }
   ],
   "source": [
    "#calibration_data = [[1,30], [2,35], [3,40], [4,45]]\n",
    "calibration_data = [[1,34.5], [2,35.1], [3,35.70], [4,36.30]]\n",
    "# y = m*x + c\n",
    "# y = (y2-y1)//(x2-x1) + C\n",
    "# y = (35-30)//(2-1)* x + C\n",
    "# y = 5*x+c \n",
    "\n",
    "# y1 = 30, x1=1\n",
    "\n",
    "#30 = 5*1+c\n",
    "#30-5 = c\n",
    "#25 = c\n",
    "\n",
    "\n",
    "def find_slope(arr):\n",
    "    if len(arr) < 2 :\n",
    "        return -1\n",
    "    else :\n",
    "        length = len(arr);\n",
    "        x1,y1 = arr[0][0],arr[0][1]\n",
    "        x2,y2 = arr[1][0],arr[1][1]\n",
    "        print(f\"x1,y1: {x1,y1}\")\n",
    "        print(f\"x2,y2: {x2,y2}\")\n",
    "        return (y2-y1)/(x2-x1) \n",
    "    \n",
    "def calculate_intercept(calibration_data,m) :\n",
    "    y = calibration_data[0][1]\n",
    "    print(f\"y:{y}\")\n",
    "    \n",
    "    x = calibration_data[0][0]\n",
    "    print(f\"x:{x}\")\n",
    "    \n",
    "    return y-(m*x)\n",
    "    \n",
    "def tell_temp(calibration_data, current):\n",
    "    m = find_slope(calibration_data)\n",
    "    print(f\"m:{m}\")\n",
    "    \n",
    "    c = calculate_intercept(calibration_data,m)\n",
    "    print(f\"c:{c}\")\n",
    "    \n",
    "    return m*current+c\n",
    "\n",
    "tell_temp(calibration_data,1.9)"
   ]
  },
  {
   "cell_type": "code",
   "execution_count": 39,
   "metadata": {},
   "outputs": [
    {
     "ename": "SyntaxError",
     "evalue": "invalid syntax (2016801350.py, line 1)",
     "output_type": "error",
     "traceback": [
      "\u001b[0;36m  Cell \u001b[0;32mIn[39], line 1\u001b[0;36m\u001b[0m\n\u001b[0;31m    Q:\u001b[0m\n\u001b[0m      ^\u001b[0m\n\u001b[0;31mSyntaxError\u001b[0m\u001b[0;31m:\u001b[0m invalid syntax\n"
     ]
    }
   ],
   "source": [
    "#Q:\n",
    "# I want to measure the rate of change of output with respect to input.\n",
    "# Slight increase input and observe how much output changes\n",
    "# find out the ratio of change of output wrt input"
   ]
  },
  {
   "cell_type": "code",
   "execution_count": 42,
   "metadata": {},
   "outputs": [
    {
     "name": "stdout",
     "output_type": "stream",
     "text": [
      "360\n"
     ]
    }
   ],
   "source": [
    "x =4*9**2+4*9**1+0*9**0\n",
    "print(x)"
   ]
  },
  {
   "cell_type": "code",
   "execution_count": null,
   "metadata": {},
   "outputs": [],
   "source": []
  }
 ],
 "metadata": {
  "kernelspec": {
   "display_name": "Python3.10",
   "language": "python",
   "name": "python3.10"
  },
  "language_info": {
   "codemirror_mode": {
    "name": "ipython",
    "version": 3
   },
   "file_extension": ".py",
   "mimetype": "text/x-python",
   "name": "python",
   "nbconvert_exporter": "python",
   "pygments_lexer": "ipython3",
   "version": "3.10.14"
  },
  "toc": {
   "base_numbering": 1,
   "nav_menu": {},
   "number_sections": true,
   "sideBar": true,
   "skip_h1_title": false,
   "title_cell": "Table of Contents",
   "title_sidebar": "Contents",
   "toc_cell": false,
   "toc_position": {},
   "toc_section_display": true,
   "toc_window_display": false
  }
 },
 "nbformat": 4,
 "nbformat_minor": 2
}
