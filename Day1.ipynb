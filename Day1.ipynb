{
 "cells": [
  {
   "cell_type": "code",
   "execution_count": 3,
   "metadata": {},
   "outputs": [],
   "source": [
    "#Q1: Choose your base between 3 and 13\n",
    "\n",
    "#Q2: Add/Substraction single digit and multiple numbers in your number system\n",
    "\n",
    "#Q3: Prepare a table of single digit multiplications in your number system.\n",
    "\n",
    "#Q4: Multiply multiple digits in your number system\n",
    "\n",
    "#Q5: Convert 1, 10, 20, 30, 100 from your base to base10.\n",
    "\n",
    "#Q6. Write a strategy to convert a number in your base to base 10 in plain english or psedo code or code\n",
    "\n",
    "#Q7. Write a strategy to convert a number in base N to base M in plain english or psedo code or code\n",
    "\n",
    "#Q8.\n",
    "\n",
    "#Q: In base 10, how many numbers can you represent in 5 digits?\n",
    "#Q: Write your own algorithm or strategy to find log10. You can use 10**x."
   ]
  },
  {
   "cell_type": "code",
   "execution_count": 5,
   "metadata": {},
   "outputs": [],
   "source": [
    "#Q1: Choose your base between 3 and 13\n",
    "\n",
    "base = 9"
   ]
  },
  {
   "cell_type": "code",
   "execution_count": 9,
   "metadata": {},
   "outputs": [],
   "source": [
    "# 0    10   20  30   40   50   60   70   80    100\n",
    "# 1    11   21  31   41   51   61   72   81    101\n",
    "# 2    12   22  32   42   52   62   72   82    102\n",
    "# 3    13   23  33   43   53   63   73   83    103\n",
    "# 4    14   24  34   44   54   64   74   84    104\n",
    "# 5    15   25  35   45   55   65   75   85    105\n",
    "# 6    16   26  36   46   56   66   76   86    106\n",
    "# 7    17   27  37   47   57   67   77   87    107\n",
    "# 8    18   28  38   48   58   68   78   88    108"
   ]
  },
  {
   "cell_type": "markdown",
   "metadata": {},
   "source": [
    "#Q2: Add/Substraction single digit and multiple numbers in your number system\n",
    "\n",
    "  #Addition\n",
    "  2088 + 5\n",
    "   \n",
    "   8+5 = 13 => in base 9 : 9+4 = 10+4 = 14  | 4\n",
    "    \n",
    "   #carry 1  \n",
    "    8+1 = 10    | 0\n",
    "    \n",
    "   #carry 1\n",
    "    8+1 = 10   | 0\n",
    "    \n",
    "   #carry 1\n",
    "   2+1 = 3\n",
    "   \n",
    "   so 2088 + 5 = 3004\n",
    "   \n",
    "   8888 \n",
    "  +   1\n",
    "  ------\n",
    "  10000\n",
    "  \n",
    "  #Subtraction\n",
    "  2088 - 5 = 2083\n"
   ]
  },
  {
   "cell_type": "code",
   "execution_count": 12,
   "metadata": {},
   "outputs": [],
   "source": [
    "#Q3: Prepare a table of single digit multiplications in your number system.\n",
    "\n",
    "# 1     2    3    4    5    6    7    8  \n",
    "# 2     4    6    8   11   13   15   17\n",
    "# 3     6   10   13   16   20   23   26\n",
    "# 4     8   13   17   22   26   31   35\n",
    "# 5    11   16   22   27   33   38   44\n",
    "# 6    13   20   26   33   40   46   50\n",
    "# 7    15   23   31   38   42   54   62\n",
    "# 8    17   26   35   44   50   62   71\n"
   ]
  },
  {
   "cell_type": "code",
   "execution_count": 34,
   "metadata": {},
   "outputs": [
    {
     "ename": "IndentationError",
     "evalue": "unexpected indent (1474904016.py, line 8)",
     "output_type": "error",
     "traceback": [
      "\u001b[0;36m  Cell \u001b[0;32mIn[34], line 8\u001b[0;36m\u001b[0m\n\u001b[0;31m    5*2 = 10(decimal) = 11 in base 9 so carry  = 1\u001b[0m\n\u001b[0m    ^\u001b[0m\n\u001b[0;31mIndentationError\u001b[0m\u001b[0;31m:\u001b[0m unexpected indent\n"
     ]
    }
   ],
   "source": [
    "#Q4: Multiply multiple digits in your number system\n",
    "\n",
    "#355*2 = 721\n",
    "\n",
    "355\n",
    "* 2 \n",
    "#----\n",
    " 5*2 = 10(decimal) = 11 in base 9 so carry  = 1\n",
    "    \n",
    " 5*2 = 10 (decimal) = 11 in base 9  so carry 1+11 =12 , so carry is 1\n",
    "3*2 = 6 + carry 1 = 7 \n",
    "hence answer is 721\n"
   ]
  },
  {
   "cell_type": "code",
   "execution_count": 35,
   "metadata": {},
   "outputs": [
    {
     "name": "stdout",
     "output_type": "stream",
     "text": [
      "2\n"
     ]
    }
   ],
   "source": [
    "x = 2\n",
    "print(x)"
   ]
  },
  {
   "cell_type": "code",
   "execution_count": null,
   "metadata": {},
   "outputs": [],
   "source": [
    "#Q5: Convert 1, 10, 20, 30, 100 from your base to base10.\n",
    "\n",
    "# base 9 |   base 10\n",
    "#  1            1\n",
    "#  10           9\n",
    "#  20          18\n",
    "#  30          27\n",
    "#  40          36\n",
    "#  50          45\n",
    "#  60          54\n",
    "#  70          63\n",
    "#  80          72\n",
    "# 100          81"
   ]
  },
  {
   "cell_type": "code",
   "execution_count": 36,
   "metadata": {
    "scrolled": true
   },
   "outputs": [
    {
     "name": "stdout",
     "output_type": "stream",
     "text": [
      "num1:16505\n",
      "num2:728\n",
      "12015640\n"
     ]
    },
    {
     "data": {
      "text/plain": [
       "121"
      ]
     },
     "execution_count": 36,
     "metadata": {},
     "output_type": "execute_result"
    }
   ],
   "source": [
    "# Code to convert from base 10 to base N\n",
    "# 24568\n",
    "# * 888\n",
    "# -----\n",
    " \n",
    "    \n",
    "#24568 \n",
    "num1 = 0 \n",
    "num2 = 0\n",
    "num1 = 2*9**4+4*9**3+5*9**2+6*9**1+8*9**0\n",
    "print(f\"num1:{num1}\")\n",
    "\n",
    "#888\n",
    "num2 = 8*9**2+8*9**1+8*9**0\n",
    "print(f\"num2:{num2}\")\n",
    "\n",
    "result = num1*num2 \n",
    "print(result)\n",
    "\n",
    "\n",
    "def convertBase10TOBaseM(result, baseM):\n",
    "    final_result = \"\"\n",
    "    while result > 0 :\n",
    "        #print(f\"result:{result}\")\n",
    "        remainder = result % baseM\n",
    "        #print(f\"remainder:{remainder}\")\n",
    "\n",
    "        new_num = result // baseM\n",
    "        #print(f\"new_num:{new_num}\")\n",
    "\n",
    "        final_result = str(remainder) if (final_result == \"\") else final_result + str(remainder)\n",
    "        #print(f\"final_result : {(final_result)}\") \n",
    "        result = new_num\n",
    "    return int(str(final_result)[:: -1])\n",
    "\n",
    "convertBase10TOBaseM(result,9)\n",
    "convertBase10TOBaseM(100,9)"
   ]
  },
  {
   "cell_type": "code",
   "execution_count": null,
   "metadata": {
    "scrolled": true
   },
   "outputs": [],
   "source": [
    "x = '1234'\n",
    "print(int(str(x)[:: -1]))\n",
    "    "
   ]
  },
  {
   "cell_type": "code",
   "execution_count": 37,
   "metadata": {},
   "outputs": [
    {
     "name": "stdout",
     "output_type": "stream",
     "text": [
      "9\n",
      "18\n",
      "27\n",
      "36\n",
      "45\n",
      "54\n",
      "63\n",
      "72\n",
      "81\n",
      "90\n"
     ]
    }
   ],
   "source": [
    " #Q6.Write a strategy to convert a number in your base to base 10 in plain english or psedo code or code\n",
    "\n",
    "def convertBaseNToBase10(number,base) :\n",
    "    stringNum = str(number)\n",
    "\n",
    "    stringNum = stringNum if stringNum.find(\".\") == -1 else stringNum.split(\".\")[0]\n",
    "\n",
    "    num = int(stringNum)\n",
    "    \n",
    "    length = len(stringNum)\n",
    "\n",
    "    numTOBase10 = 0;\n",
    "\n",
    "    for i in range (length) :\n",
    "        digit = num% 10\n",
    "        num = num // 10\n",
    "        numTOBase10 +=  base** i *digit\n",
    "    return numTOBase10    \n",
    " \n",
    "# base 9 |   base 10\n",
    "#  1            1\n",
    "#  10           9\n",
    "#  20          18\n",
    "#  30          27\n",
    "#  40          36\n",
    "#  50          45\n",
    "#  60          54\n",
    "#  70          63\n",
    "#  80          72\n",
    "# 100          81\n",
    "print(convertBaseNToBase10(10,9))\n",
    "print(convertBaseNToBase10(20,9))\n",
    "print(convertBaseNToBase10(30,9))\n",
    "print(convertBaseNToBase10(40,9))\n",
    "print(convertBaseNToBase10(50,9))\n",
    "print(convertBaseNToBase10(60,9))\n",
    "print(convertBaseNToBase10(70.3,9))\n",
    "print(convertBaseNToBase10(80,9))\n",
    "print(convertBaseNToBase10(100,9))\n",
    "print(convertBaseNToBase10(110,9))\n"
   ]
  },
  {
   "cell_type": "code",
   "execution_count": 38,
   "metadata": {},
   "outputs": [
    {
     "data": {
      "text/plain": [
       "10000"
      ]
     },
     "execution_count": 38,
     "metadata": {},
     "output_type": "execute_result"
    }
   ],
   "source": [
    "#Q7. Write a strategy to convert a number in base N to base M in plain english or psedo code or code\n",
    "def convertBaseNToBaseM(number,baseN, baseM) :\n",
    "    stringNum = str(number)\n",
    "\n",
    "    stringNum = stringNum if stringNum.find(\".\") == -1 else stringNum.split(\".\")[0]\n",
    "\n",
    "    num = int(stringNum)\n",
    "    \n",
    "    num10 = convertBaseNToBase10(num,baseN)\n",
    "    if baseM != 10 :\n",
    "        return convertBase10TOBaseM(num10,baseM) \n",
    "    else: \n",
    "        return num10\n",
    "      \n",
    "convertBaseNToBaseM(2458,9, 6) \n",
    "convertBaseNToBaseM(2458,9, 9)    \n",
    "convertBaseNToBaseM(18,11, 10)   \n",
    "convertBaseNToBaseM(764,9,5)"
   ]
  },
  {
   "cell_type": "code",
   "execution_count": 8,
   "metadata": {},
   "outputs": [
    {
     "data": {
      "text/plain": [
       "100000"
      ]
     },
     "execution_count": 8,
     "metadata": {},
     "output_type": "execute_result"
    }
   ],
   "source": [
    "#Q: In base 10, how many numbers can you represent in 5 digits?\n",
    "10**5"
   ]
  },
  {
   "cell_type": "code",
   "execution_count": 5,
   "metadata": {},
   "outputs": [],
   "source": [
    "#Q: Write your own algorithm or strategy to find log10. You can use 10**x."
   ]
  },
  {
   "cell_type": "code",
   "execution_count": 29,
   "metadata": {},
   "outputs": [
    {
     "data": {
      "text/plain": [
       "726"
      ]
     },
     "execution_count": 29,
     "metadata": {},
     "output_type": "execute_result"
    }
   ],
   "source": [
    "x = (6*11**2)+(6*11**1)+(7*11**0)\n",
    "11**2*6+11**1*2+7*11**0\n"
   ]
  },
  {
   "cell_type": "code",
   "execution_count": null,
   "metadata": {},
   "outputs": [],
   "source": []
  },
  {
   "cell_type": "code",
   "execution_count": null,
   "metadata": {},
   "outputs": [],
   "source": []
  },
  {
   "cell_type": "code",
   "execution_count": 8,
   "metadata": {},
   "outputs": [
    {
     "data": {
      "text/plain": [
       "0"
      ]
     },
     "execution_count": 8,
     "metadata": {},
     "output_type": "execute_result"
    }
   ],
   "source": [
    "#273\n",
    "273%7"
   ]
  },
  {
   "cell_type": "code",
   "execution_count": 9,
   "metadata": {},
   "outputs": [
    {
     "data": {
      "text/plain": [
       "39"
      ]
     },
     "execution_count": 9,
     "metadata": {},
     "output_type": "execute_result"
    }
   ],
   "source": [
    "273// 7"
   ]
  },
  {
   "cell_type": "code",
   "execution_count": 10,
   "metadata": {},
   "outputs": [
    {
     "data": {
      "text/plain": [
       "4"
      ]
     },
     "execution_count": 10,
     "metadata": {},
     "output_type": "execute_result"
    }
   ],
   "source": [
    "39%7"
   ]
  },
  {
   "cell_type": "code",
   "execution_count": 11,
   "metadata": {},
   "outputs": [
    {
     "data": {
      "text/plain": [
       "5"
      ]
     },
     "execution_count": 11,
     "metadata": {},
     "output_type": "execute_result"
    }
   ],
   "source": [
    "39// 7"
   ]
  },
  {
   "cell_type": "code",
   "execution_count": 12,
   "metadata": {},
   "outputs": [
    {
     "data": {
      "text/plain": [
       "5"
      ]
     },
     "execution_count": 12,
     "metadata": {},
     "output_type": "execute_result"
    }
   ],
   "source": [
    "5%7"
   ]
  },
  {
   "cell_type": "code",
   "execution_count": 13,
   "metadata": {},
   "outputs": [
    {
     "data": {
      "text/plain": [
       "0"
      ]
     },
     "execution_count": 13,
     "metadata": {},
     "output_type": "execute_result"
    }
   ],
   "source": [
    "5//7"
   ]
  },
  {
   "cell_type": "code",
   "execution_count": 14,
   "metadata": {},
   "outputs": [
    {
     "data": {
      "text/plain": [
       "273"
      ]
     },
     "execution_count": 14,
     "metadata": {},
     "output_type": "execute_result"
    }
   ],
   "source": [
    "0*7**0+4*7+5*7**2"
   ]
  },
  {
   "cell_type": "code",
   "execution_count": 16,
   "metadata": {},
   "outputs": [
    {
     "data": {
      "text/plain": [
       "4"
      ]
     },
     "execution_count": 16,
     "metadata": {},
     "output_type": "execute_result"
    }
   ],
   "source": [
    "#764 to base 5\n",
    "764%5"
   ]
  },
  {
   "cell_type": "code",
   "execution_count": 17,
   "metadata": {},
   "outputs": [
    {
     "data": {
      "text/plain": [
       "152"
      ]
     },
     "execution_count": 17,
     "metadata": {},
     "output_type": "execute_result"
    }
   ],
   "source": [
    "764//5"
   ]
  },
  {
   "cell_type": "code",
   "execution_count": 18,
   "metadata": {},
   "outputs": [
    {
     "data": {
      "text/plain": [
       "2"
      ]
     },
     "execution_count": 18,
     "metadata": {},
     "output_type": "execute_result"
    }
   ],
   "source": [
    "152%5"
   ]
  },
  {
   "cell_type": "code",
   "execution_count": 19,
   "metadata": {},
   "outputs": [
    {
     "data": {
      "text/plain": [
       "30"
      ]
     },
     "execution_count": 19,
     "metadata": {},
     "output_type": "execute_result"
    }
   ],
   "source": [
    "152//5"
   ]
  },
  {
   "cell_type": "code",
   "execution_count": 20,
   "metadata": {},
   "outputs": [
    {
     "data": {
      "text/plain": [
       "0"
      ]
     },
     "execution_count": 20,
     "metadata": {},
     "output_type": "execute_result"
    }
   ],
   "source": [
    "30%2"
   ]
  },
  {
   "cell_type": "code",
   "execution_count": 26,
   "metadata": {},
   "outputs": [
    {
     "data": {
      "text/plain": [
       "14"
      ]
     },
     "execution_count": 26,
     "metadata": {},
     "output_type": "execute_result"
    }
   ],
   "source": [
    "0*5**2+2*5+4"
   ]
  },
  {
   "cell_type": "code",
   "execution_count": 22,
   "metadata": {},
   "outputs": [
    {
     "data": {
      "text/plain": [
       "0"
      ]
     },
     "execution_count": 22,
     "metadata": {},
     "output_type": "execute_result"
    }
   ],
   "source": [
    "15%5\n"
   ]
  },
  {
   "cell_type": "code",
   "execution_count": 23,
   "metadata": {},
   "outputs": [
    {
     "data": {
      "text/plain": [
       "3"
      ]
     },
     "execution_count": 23,
     "metadata": {},
     "output_type": "execute_result"
    }
   ],
   "source": [
    "15//5"
   ]
  },
  {
   "cell_type": "code",
   "execution_count": 24,
   "metadata": {},
   "outputs": [
    {
     "data": {
      "text/plain": [
       "3"
      ]
     },
     "execution_count": 24,
     "metadata": {},
     "output_type": "execute_result"
    }
   ],
   "source": [
    "3%5"
   ]
  },
  {
   "cell_type": "code",
   "execution_count": 25,
   "metadata": {},
   "outputs": [
    {
     "data": {
      "text/plain": [
       "0"
      ]
     },
     "execution_count": 25,
     "metadata": {},
     "output_type": "execute_result"
    }
   ],
   "source": [
    "3//5"
   ]
  },
  {
   "cell_type": "code",
   "execution_count": null,
   "metadata": {},
   "outputs": [],
   "source": []
  }
 ],
 "metadata": {
  "kernelspec": {
   "display_name": "Python3.10",
   "language": "python",
   "name": "python3.10"
  },
  "language_info": {
   "codemirror_mode": {
    "name": "ipython",
    "version": 3
   },
   "file_extension": ".py",
   "mimetype": "text/x-python",
   "name": "python",
   "nbconvert_exporter": "python",
   "pygments_lexer": "ipython3",
   "version": "3.10.14"
  },
  "toc": {
   "base_numbering": 1,
   "nav_menu": {},
   "number_sections": true,
   "sideBar": true,
   "skip_h1_title": false,
   "title_cell": "Table of Contents",
   "title_sidebar": "Contents",
   "toc_cell": false,
   "toc_position": {},
   "toc_section_display": true,
   "toc_window_display": false
  }
 },
 "nbformat": 4,
 "nbformat_minor": 2
}
